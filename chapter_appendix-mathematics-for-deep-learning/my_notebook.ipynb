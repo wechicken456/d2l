{
 "cells": [
  {
   "cell_type": "markdown",
   "id": "4cdac74e-3da3-445f-bd67-5342d3cd028a",
   "metadata": {},
   "source": [
    "# Dot Product and Cosine Angle\n",
    "\n",
    "$$\\theta = \\arccos\\left(\\frac{\\mathbf{v}\\cdot\\mathbf{w}}{\\|\\mathbf{v}\\|\\|\\mathbf{w}\\|}\\right).$$\n",
    ":eqlabel:`eq_angle_forumla`\n",
    "\n",
    "$$\n",
    "\\cos(\\theta) = \\frac{\\mathbf{v}\\cdot\\mathbf{w}}{\\|\\mathbf{v}\\|\\|\\mathbf{w}\\|}.\n",
    "$$\n",
    "\n",
    "\n",
    "The cosine:\n",
    "+ maximum value of $1$ = *same* direction,\n",
    "+ a minimum value of $-1$ = *opposite* directions,\n",
    "+ and a value of $0$ = *orthogonal*.\n",
    "Note that if the components of high-dimensional vectors\n",
    "are sampled randomly with mean $0$,\n",
    "their cosine will nearly always be close to $0$.\n",
    "\n",
    "\n",
    "It is reasonable to ask: why is computing the angle useful?\n",
    "The answer comes in the kind of invariance we expect data to have.\n",
    "Consider an image, and a duplicate image,\n",
    "where every pixel value is the same but $10\\%$ the brightness.\n",
    "The values of the individual pixels are in general far from the original values.\n",
    "Thus, if one computed the distance between the original image and the darker one,\n",
    "the distance can be large.\n",
    "However, for most ML applications, the *content* is the same---it is still\n",
    "an image of a cat as far as a cat/dog classifier is concerned.\n",
    "However, if we consider the angle, it is not hard to see\n",
    "that for any vector $\\mathbf{v}$, the angle\n",
    "between $\\mathbf{v}$ and $0.1\\cdot\\mathbf{v}$ is zero.\n",
    "This corresponds to the fact that scaling vectors\n",
    "keeps the same direction and just changes the length.\n",
    "The angle considers the darker image identical."
   ]
  },
  {
   "cell_type": "markdown",
   "id": "b0f1b649-7da3-4010-b2e9-8a4337f0c4f1",
   "metadata": {},
   "source": [
    "# Hyperplanes \n",
    "\n",
    "Let's start with an example.\n",
    "Suppose that we have a column vector $\\mathbf{w}=[2,1]^\\top$. We want to know, \"what are the points $\\mathbf{v}$ with $\\mathbf{w}\\cdot\\mathbf{v} = 1$?\"\n",
    "By recalling the connection between dot products and angles above :eqref:`eq_angle_forumla`,\n",
    "we can see that this is equivalent to\n",
    "$$\n",
    "\\|\\mathbf{v}\\|\\|\\mathbf{w}\\|\\cos(\\theta) = 1 \\; \\iff \\; \\|\\mathbf{v}\\|\\cos(\\theta) = \\frac{1}{\\|\\mathbf{w}\\|} = \\frac{1}{\\sqrt{5}}.\n",
    "$$\n",
    "\n",
    "![Recalling trigonometry, we see the formula $\\|\\mathbf{v}\\|\\cos(\\theta)$ is the length of the projection of the vector $\\mathbf{v}$ onto the direction of $\\mathbf{w}$](../img/proj-vec.svg)\n",
    ":label:`fig_vector-project`\n",
    "\n",
    "If we consider the geometric meaning of this expression,\n",
    "we see that this is equivalent to saying\n",
    "that the length of the projection of $\\mathbf{v}$\n",
    "onto the direction of $\\mathbf{w}$ is exactly $1/\\|\\mathbf{w}\\|$, as is shown in :numref:`fig_vector-project`.\n",
    "The set of all points where this is true is a line\n",
    "at **right** angles to the vector $\\mathbf{w}$.\n",
    "If we wanted, we could find the equation for this line\n",
    "and see that it is $2x + y = 1$ or equivalently $y = 1 - 2x$."
   ]
  },
  {
   "cell_type": "code",
   "execution_count": null,
   "id": "69e523ff-b453-4b23-99ab-95b1810f128c",
   "metadata": {},
   "outputs": [],
   "source": []
  }
 ],
 "metadata": {
  "kernelspec": {
   "display_name": "Python 3 (ipykernel)",
   "language": "python",
   "name": "python3"
  },
  "language_info": {
   "codemirror_mode": {
    "name": "ipython",
    "version": 3
   },
   "file_extension": ".py",
   "mimetype": "text/x-python",
   "name": "python",
   "nbconvert_exporter": "python",
   "pygments_lexer": "ipython3",
   "version": "3.11.11"
  }
 },
 "nbformat": 4,
 "nbformat_minor": 5
}
